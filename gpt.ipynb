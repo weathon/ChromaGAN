{
 "cells": [
  {
   "cell_type": "code",
   "execution_count": 9,
   "metadata": {},
   "outputs": [],
   "source": [
    "import torch\n",
    "from typing import Literal\n",
    "# they could just copy the pervious token, on another dim?\n",
    "class MSGPT(torch.nn.Module):\n",
    "    def __init__(self, backbone: Literal[\"transformer\", \"LSTM\", \"GRU\"] = \"transformer\" ):\n",
    "        super().__init__()\n",
    "        if not backbone in [\"transformer\", \"LSTM\", \"GRU\"]:\n",
    "            raise ValueError(\"backbone must be one of 'transformer', 'LSTM', 'GRU'\")\n",
    "        self.begin = torch.nn.Embedding(1, 1024)\n",
    "        self.backbone_type = backbone\n",
    "        if backbone == \"transformer\":\n",
    "            self.pos = torch.nn.Embedding(1024, 1024)\n",
    "            self.backbone = torch.nn.TransformerEncoder(torch.nn.TransformerEncoderLayer(d_model=1024, nhead=16, batch_first=True), num_layers=8, enable_nested_tensor=False)\n",
    "        elif backbone == \"LSTM\":\n",
    "            self.backbone = torch.nn.LSTM(input_size=1024, hidden_size=1024, num_layers=8, batch_first=True)\n",
    "        else:\n",
    "            self.backbone = torch.nn.GRU(input_size=1024, hidden_size=1024, num_layers=8, batch_first=True)\n",
    "    def forward(self, input):\n",
    "        # input [B, L, D]\n",
    "        begin = self.begin(torch.zeros(1, device=input.device, dtype=torch.long)).unsqueeze(0)\n",
    "        input = torch.cat([begin, input], dim=1)\n",
    "        if self.backbone_type == \"transformer\":\n",
    "            # input = self.pos(torch.arange(input.shape[1], device=input.device)) + input \n",
    "            print(input.shape)\n",
    "            return self.backbone(input)\n",
    "        else:\n",
    "            return self.backbone(input)[0]\n"
   ]
  },
  {
   "cell_type": "code",
   "execution_count": 10,
   "metadata": {},
   "outputs": [
    {
     "name": "stdout",
     "output_type": "stream",
     "text": [
      "torch.Size([1, 11, 1024])\n"
     ]
    },
    {
     "data": {
      "text/plain": [
       "tensor([[[ 0.9119,  0.2568,  1.9602,  ...,  0.6904,  1.3046, -2.0507],\n",
       "         [ 0.6826, -1.0355,  0.8275,  ...,  0.7318,  1.3623, -1.6779],\n",
       "         [ 0.6666, -0.3211,  1.4935,  ...,  0.3075,  1.2610, -0.8673],\n",
       "         ...,\n",
       "         [ 1.3572,  0.1298,  1.2824,  ...,  0.6577,  0.5132, -0.8781],\n",
       "         [ 0.7668, -0.2088,  0.7739,  ...,  0.8059,  1.5599, -1.6975],\n",
       "         [ 0.0711, -0.6341,  1.4892,  ...,  0.5474,  1.4652, -1.5761]]],\n",
       "       grad_fn=<NativeLayerNormBackward0>)"
      ]
     },
     "execution_count": 10,
     "metadata": {},
     "output_type": "execute_result"
    }
   ],
   "source": [
    "model = MSGPT(\"transformer\")\n",
    "model = model.train()\n",
    "model(torch.randn(1, 10, 1024))"
   ]
  }
 ],
 "metadata": {
  "kernelspec": {
   "display_name": "Python 3",
   "language": "python",
   "name": "python3"
  },
  "language_info": {
   "codemirror_mode": {
    "name": "ipython",
    "version": 3
   },
   "file_extension": ".py",
   "mimetype": "text/x-python",
   "name": "python",
   "nbconvert_exporter": "python",
   "pygments_lexer": "ipython3",
   "version": "3.8.10"
  }
 },
 "nbformat": 4,
 "nbformat_minor": 2
}
